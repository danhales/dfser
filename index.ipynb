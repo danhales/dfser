{
 "cells": [
  {
   "cell_type": "markdown",
   "metadata": {},
   "source": [
    "Conda environment (for when Dan forgets): speech-emotion\n",
    "\n",
    "Code from <a href=\"https://data-flair.training/blogs/python-mini-project-speech-emotion-recognition/\">here</a>.\n",
    "\n",
    "Goal is to deploy model in an Android app, so I'm making sure the code is actually reproducible here."
   ]
  },
  {
   "cell_type": "code",
   "execution_count": 1,
   "metadata": {},
   "outputs": [
    {
     "name": "stdout",
     "output_type": "stream",
     "text": [
      "index.ipynb                             \u001b[34mspeech-emotion-recognition-ravdess-data\u001b[m\u001b[m\r\n"
     ]
    }
   ],
   "source": [
    "!ls"
   ]
  },
  {
   "cell_type": "code",
   "execution_count": 2,
   "metadata": {},
   "outputs": [],
   "source": [
    "import librosa\n",
    "import soundfile\n",
    "import os, glob, pickle\n",
    "import numpy as np\n",
    "from sklearn.model_selection import train_test_split\n",
    "from sklearn.neural_network import MLPClassifier\n",
    "from sklearn.metrics import accuracy_score"
   ]
  },
  {
   "cell_type": "code",
   "execution_count": 3,
   "metadata": {},
   "outputs": [],
   "source": [
    "#DataFlair - Extract features (mfcc, chroma, mel) from a sound file\n",
    "def extract_feature(file_name, mfcc, chroma, mel):\n",
    "    with soundfile.SoundFile(file_name) as sound_file:\n",
    "        X = sound_file.read(dtype=\"float32\")\n",
    "        sample_rate=sound_file.samplerate\n",
    "        if chroma:\n",
    "            stft=np.abs(librosa.stft(X))\n",
    "        result=np.array([])\n",
    "        if mfcc:\n",
    "            mfccs=np.mean(librosa.feature.mfcc(y=X, sr=sample_rate, n_mfcc=40).T, axis=0)\n",
    "            result=np.hstack((result, mfccs))\n",
    "        if chroma:\n",
    "            chroma=np.mean(librosa.feature.chroma_stft(S=stft, sr=sample_rate).T,axis=0)\n",
    "            result=np.hstack((result, chroma))\n",
    "        if mel:\n",
    "            mel=np.mean(librosa.feature.melspectrogram(X, sr=sample_rate).T,axis=0)\n",
    "            result=np.hstack((result, mel))\n",
    "    return result"
   ]
  },
  {
   "cell_type": "code",
   "execution_count": 4,
   "metadata": {},
   "outputs": [],
   "source": [
    "#DataFlair - Emotions in the RAVDESS dataset\n",
    "emotions={\n",
    "  '01':'neutral',\n",
    "  '02':'calm',\n",
    "  '03':'happy',\n",
    "  '04':'sad',\n",
    "  '05':'angry',\n",
    "  '06':'fearful',\n",
    "  '07':'disgust',\n",
    "  '08':'surprised'\n",
    "}\n",
    "#DataFlair - Emotions to observe\n",
    "observed_emotions=['calm', 'happy', 'fearful', 'disgust']"
   ]
  },
  {
   "cell_type": "code",
   "execution_count": 5,
   "metadata": {},
   "outputs": [],
   "source": [
    "#DataFlair - Load the data and extract features for each sound file\n",
    "def load_data(test_size=0.2):\n",
    "    x,y=[],[]\n",
    "    for file in glob.glob(\"speech-emotion-recognition-ravdess-data/Actor_*/*.wav\"):\n",
    "        file_name=os.path.basename(file)\n",
    "        emotion=emotions[file_name.split(\"-\")[2]]\n",
    "        if emotion not in observed_emotions:\n",
    "            continue\n",
    "        feature=extract_feature(file, mfcc=True, chroma=True, mel=True)\n",
    "        x.append(feature)\n",
    "        y.append(emotion)\n",
    "    return train_test_split(np.array(x), y, test_size=test_size, random_state=9)\n",
    "\n",
    "#load_data()"
   ]
  },
  {
   "cell_type": "code",
   "execution_count": 6,
   "metadata": {},
   "outputs": [
    {
     "name": "stdout",
     "output_type": "stream",
     "text": [
      "(576, 192)\n",
      "Features extracted: 180\n"
     ]
    }
   ],
   "source": [
    "#DataFlair - Split the dataset\n",
    "x_train,x_test,y_train,y_test=load_data(test_size=0.25)\n",
    "\n",
    "#DataFlair - Get the shape of the training and testing datasets\n",
    "print((x_train.shape[0], x_test.shape[0]))\n",
    "#DataFlair - Get the number of features extracted\n",
    "print(f'Features extracted: {x_train.shape[1]}')"
   ]
  },
  {
   "cell_type": "code",
   "execution_count": 40,
   "metadata": {},
   "outputs": [
    {
     "name": "stderr",
     "output_type": "stream",
     "text": [
      "100%|██████████| 99/99 [01:18<00:00,  1.26it/s]\n"
     ]
    }
   ],
   "source": [
    "#DataFlair - Initialize the Multi Layer Perceptron Classifier\n",
    "import tqdm\n",
    "tests = []\n",
    "for test in tqdm.trange(1, 100):\n",
    "    model=MLPClassifier(alpha=0.01, \n",
    "                        batch_size=256, \n",
    "                        epsilon=1e-08, \n",
    "                        hidden_layer_sizes=(300,), \n",
    "                        learning_rate='adaptive', \n",
    "                        max_iter=500)\n",
    "\n",
    "    #DataFlair - Train the model\n",
    "    model.fit(x_train,y_train)\n",
    "\n",
    "    #DataFlair - Predict for the test set\n",
    "    y_pred=model.predict(x_test)\n",
    "\n",
    "    #DataFlair - Calculate the accuracy of our model\n",
    "    accuracy=accuracy_score(y_true=y_test, y_pred=y_pred)\n",
    "\n",
    "    #DataFlair - Print the accuracy\n",
    "    #print(\"Accuracy: {:.2f}%\".format(accuracy*100))\n",
    "    tests.append(accuracy)"
   ]
  },
  {
   "cell_type": "code",
   "execution_count": 15,
   "metadata": {},
   "outputs": [
    {
     "data": {
      "text/plain": [
       "{'activation': 'relu',\n",
       " 'alpha': 0.01,\n",
       " 'batch_size': 256,\n",
       " 'beta_1': 0.9,\n",
       " 'beta_2': 0.999,\n",
       " 'early_stopping': False,\n",
       " 'epsilon': 1e-08,\n",
       " 'hidden_layer_sizes': (300,),\n",
       " 'learning_rate': 'adaptive',\n",
       " 'learning_rate_init': 0.001,\n",
       " 'max_fun': 15000,\n",
       " 'max_iter': 500,\n",
       " 'momentum': 0.9,\n",
       " 'n_iter_no_change': 10,\n",
       " 'nesterovs_momentum': True,\n",
       " 'power_t': 0.5,\n",
       " 'random_state': None,\n",
       " 'shuffle': True,\n",
       " 'solver': 'adam',\n",
       " 'tol': 0.0001,\n",
       " 'validation_fraction': 0.1,\n",
       " 'verbose': False,\n",
       " 'warm_start': False}"
      ]
     },
     "execution_count": 15,
     "metadata": {},
     "output_type": "execute_result"
    }
   ],
   "source": [
    "model.get_params()"
   ]
  },
  {
   "cell_type": "code",
   "execution_count": 24,
   "metadata": {},
   "outputs": [
    {
     "data": {
      "text/plain": [
       "[array([[ 1.40663535e-02, -4.91742298e-02, -7.06286358e-02, ...,\n",
       "          3.48195092e-02, -6.29562035e-02, -2.55354338e-03],\n",
       "        [-1.37074710e-02, -9.55608251e-02, -4.83154159e-02, ...,\n",
       "          1.25360982e-02,  3.09398390e-02,  3.33188122e-03],\n",
       "        [ 1.15056847e-02,  2.79328467e-02,  7.55160243e-02, ...,\n",
       "         -1.77551287e-03,  4.85729756e-02, -2.47912627e-02],\n",
       "        ...,\n",
       "        [ 8.08643788e-12,  1.24154748e-02, -3.05129909e-02, ...,\n",
       "         -1.43436807e-14, -3.49724133e-02, -1.60586596e-02],\n",
       "        [-1.28835633e-12,  7.54134501e-03, -1.77604585e-02, ...,\n",
       "          1.40991862e-12, -2.24769294e-02, -9.16445319e-03],\n",
       "        [-1.15172351e-10,  2.80721093e-03, -7.89028584e-03, ...,\n",
       "         -2.35714341e-09, -9.96569678e-03, -5.30680644e-03]]),\n",
       " array([[ 1.37865805e-02,  1.96732023e-03,  1.38864996e-02,\n",
       "         -4.89990260e-03],\n",
       "        [ 8.02521231e-03,  1.13644661e-02, -1.00730538e-01,\n",
       "          2.24345140e-02],\n",
       "        [-3.37087893e-03, -8.04249563e-02,  1.07863714e-01,\n",
       "         -5.50220263e-02],\n",
       "        ...,\n",
       "        [-8.07474874e-02, -2.70866416e-15,  3.17504780e-03,\n",
       "          3.78021469e-15],\n",
       "        [-4.61660031e-02, -7.80041510e-02,  1.38827827e-01,\n",
       "          8.16229177e-02],\n",
       "        [ 6.98755521e-02, -6.49156327e-02,  1.79855911e-02,\n",
       "         -1.51248997e-02]])]"
      ]
     },
     "execution_count": 24,
     "metadata": {},
     "output_type": "execute_result"
    }
   ],
   "source": [
    "model.coefs_"
   ]
  },
  {
   "cell_type": "code",
   "execution_count": 29,
   "metadata": {},
   "outputs": [
    {
     "data": {
      "text/plain": [
       "[array([ 0.04668475,  0.09886515,  0.0753171 ,  0.01345352,  0.07100046,\n",
       "        -0.08227346, -0.0254244 , -0.03441039,  0.0234474 , -0.07787076,\n",
       "         0.05180446, -0.01693423,  0.02104225, -0.01416796,  0.07082697,\n",
       "         0.00419546,  0.07133234,  0.00552151, -0.0541261 ,  0.01682478,\n",
       "         0.00423863, -0.04177588,  0.0046737 , -0.01874905, -0.10683817,\n",
       "        -0.09597538, -0.00469558,  0.06793386, -0.02595527, -0.07821158,\n",
       "        -0.12113162,  0.06780024, -0.06295834,  0.1059856 , -0.0736345 ,\n",
       "        -0.07415066, -0.09368884, -0.0541321 ,  0.08860556, -0.0075903 ,\n",
       "         0.08438605,  0.01164878,  0.11134638,  0.0174646 , -0.04468362,\n",
       "         0.03873832,  0.07729911, -0.0936893 , -0.01425738, -0.06163256,\n",
       "         0.11861844, -0.0324714 , -0.0586511 ,  0.07204019, -0.08781674,\n",
       "        -0.04640388, -0.0109411 , -0.0178484 , -0.07777559,  0.01590799,\n",
       "         0.00443274,  0.02632007, -0.08695251, -0.0540209 ,  0.11457499,\n",
       "         0.040539  , -0.0573153 , -0.03854836,  0.07371085, -0.08871528,\n",
       "        -0.0160213 , -0.04503823, -0.04000577, -0.03591804, -0.04110075,\n",
       "         0.05060297,  0.0337919 ,  0.03230971, -0.08913805, -0.02095172,\n",
       "        -0.00304767, -0.01172949,  0.07451112, -0.0932613 , -0.00093987,\n",
       "         0.01864523,  0.07909857,  0.06555232,  0.0692696 ,  0.01921068,\n",
       "        -0.10443498, -0.07502987, -0.02665061,  0.08251463,  0.11384683,\n",
       "         0.08874919,  0.11196752, -0.08828047,  0.0998204 ,  0.01602341,\n",
       "        -0.07755599, -0.08207739, -0.01177199,  0.01751981, -0.07863868,\n",
       "         0.03018581,  0.01579298, -0.01221483,  0.05368991,  0.02631513,\n",
       "         0.07046505, -0.02083898, -0.06285109,  0.06225756, -0.00378587,\n",
       "        -0.0223599 , -0.02747852,  0.00814143,  0.01237991, -0.05045232,\n",
       "        -0.01785729,  0.01368561, -0.07670699, -0.05718843, -0.01975053,\n",
       "        -0.04438876, -0.08355983,  0.09229035,  0.07136288,  0.0800302 ,\n",
       "         0.02659661, -0.02985101, -0.0893804 ,  0.02488181,  0.00526703,\n",
       "         0.03105687,  0.06302644,  0.03540538,  0.06502318, -0.09086812,\n",
       "         0.09312169, -0.03796225, -0.0787851 , -0.000298  ,  0.10716054,\n",
       "         0.0813032 ,  0.00843413,  0.07044318, -0.02833892, -0.05019999,\n",
       "         0.06438403,  0.02941466,  0.01525222,  0.01644311, -0.09183808,\n",
       "        -0.02316889, -0.08439797, -0.08784045, -0.06504068,  0.09249562,\n",
       "         0.03506485, -0.00696646, -0.07197701, -0.00280801,  0.10894149,\n",
       "        -0.05653189,  0.07201481, -0.06614512, -0.05585141,  0.06415077,\n",
       "        -0.09293224, -0.01765326,  0.08284509,  0.11473059,  0.02309128,\n",
       "        -0.06077556, -0.01115985,  0.07188361, -0.0546166 ,  0.00461248,\n",
       "         0.00835986,  0.07150205, -0.0894446 ,  0.02903015, -0.03418143,\n",
       "        -0.03275698,  0.02805036,  0.05270079, -0.00639807, -0.07326679,\n",
       "         0.02131447,  0.05252643, -0.05806527, -0.05979998,  0.00783333,\n",
       "        -0.0607994 , -0.01378954,  0.01812575,  0.06909087, -0.00538429,\n",
       "        -0.11557026,  0.00818728,  0.06398668, -0.06209256, -0.10274003,\n",
       "         0.08844905,  0.06715019,  0.04476445, -0.02297502, -0.06440439,\n",
       "        -0.06269525, -0.05258285, -0.10267539, -0.00544443, -0.07195915,\n",
       "         0.02582635, -0.02611061, -0.0420718 , -0.05298538,  0.06969027,\n",
       "        -0.03394599,  0.07107298,  0.09012429, -0.03163277, -0.07973166,\n",
       "         0.05185045, -0.06382718,  0.09276762, -0.04663689, -0.04851001,\n",
       "        -0.09184564, -0.04598719, -0.05269956, -0.02336926,  0.0229674 ,\n",
       "         0.05199956, -0.12731248,  0.00730088,  0.07507917, -0.10294084,\n",
       "        -0.03836097, -0.08416939, -0.07137518, -0.07991166, -0.01999116,\n",
       "        -0.06549978,  0.09481228, -0.03579331,  0.11923121,  0.08554923,\n",
       "        -0.07999952,  0.05996022,  0.02561785, -0.08478371,  0.06488913,\n",
       "         0.10523326, -0.03728515, -0.04525852,  0.07917366, -0.09535047,\n",
       "         0.06380436, -0.05988749, -0.02786007,  0.03434045, -0.07685553,\n",
       "        -0.06475789,  0.07813109, -0.01449162,  0.02975624,  0.04099022,\n",
       "        -0.09499113,  0.05898293, -0.10355753, -0.05916596,  0.04772348,\n",
       "         0.03634809,  0.03469281, -0.09936338,  0.0708497 , -0.0127548 ,\n",
       "         0.09104543,  0.02146713,  0.07712754, -0.05418775, -0.00136705,\n",
       "        -0.0479543 ,  0.02802517, -0.08411402,  0.0202403 ,  0.03696538,\n",
       "        -0.09094424,  0.05001799, -0.02171032,  0.01655615, -0.07768429,\n",
       "        -0.01168303, -0.06934048, -0.02315781, -0.02894125,  0.0007819 ]),\n",
       " array([ 0.05299588, -0.02572854,  0.08970233, -0.11663015])]"
      ]
     },
     "execution_count": 29,
     "metadata": {},
     "output_type": "execute_result"
    }
   ],
   "source": [
    "model.intercepts_"
   ]
  },
  {
   "cell_type": "code",
   "execution_count": null,
   "metadata": {},
   "outputs": [],
   "source": []
  }
 ],
 "metadata": {
  "kernelspec": {
   "display_name": "Python 3",
   "language": "python",
   "name": "python3"
  },
  "language_info": {
   "codemirror_mode": {
    "name": "ipython",
    "version": 3
   },
   "file_extension": ".py",
   "mimetype": "text/x-python",
   "name": "python",
   "nbconvert_exporter": "python",
   "pygments_lexer": "ipython3",
   "version": "3.7.6"
  }
 },
 "nbformat": 4,
 "nbformat_minor": 4
}
